{
 "cells": [
  {
   "cell_type": "code",
   "execution_count": 25,
   "metadata": {},
   "outputs": [],
   "source": [
    "from src.datasets import NoisySpeechDataset"
   ]
  },
  {
   "cell_type": "code",
   "execution_count": 26,
   "metadata": {},
   "outputs": [],
   "source": [
    "dataset = NoisySpeechDataset(train=False, quiet=True)"
   ]
  },
  {
   "cell_type": "code",
   "execution_count": 27,
   "metadata": {},
   "outputs": [],
   "source": [
    "noisy_t, clean_t = dataset[0]\n",
    "noisy_arr = noisy_t.detach().numpy()\n",
    "clean_arr = clean_t.detach().numpy()"
   ]
  },
  {
   "cell_type": "code",
   "execution_count": 47,
   "metadata": {},
   "outputs": [
    {
     "name": "stdout",
     "output_type": "stream",
     "text": [
      "(1024,)\n",
      "[  0.    31.25  62.5   93.75 125.  ] [7875.   7906.25 7937.5  7968.75]\n",
      "[0.    0.016 0.032 0.048 0.064] [1.984 2.    2.016 2.032]\n",
      "(257, 129)\n"
     ]
    }
   ],
   "source": [
    "# Original scipy base method\n",
    "import numpy as np\n",
    "from scipy import signal\n",
    "\n",
    "SAMPLING_RATE = 16000\n",
    "HOP_MS = 16\n",
    "WIN_MS = 64\n",
    "\n",
    "def ms_to_steps(ms):\n",
    "    return int((1e-3 * ms) * SAMPLING_RATE)\n",
    "\n",
    "\n",
    "num_segment = ms_to_steps(WIN_MS)\n",
    "num_overlap = num_segment - ms_to_steps(HOP_MS)\n",
    "\n",
    "freqs, times, spectral_frames = signal.stft(\n",
    "    noisy_arr,\n",
    "    fs=SAMPLING_RATE,\n",
    "    nperseg=num_segment,\n",
    "    noverlap=num_overlap,\n",
    "    \n",
    ")\n",
    "print(window.shape)\n",
    "print(freqs[0:5], freqs[-5:-1])\n",
    "print(times[0:5], times[-5:-1])\n",
    "print(spectral_frames.shape)"
   ]
  },
  {
   "cell_type": "code",
   "execution_count": 34,
   "metadata": {},
   "outputs": [],
   "source": [
    "# Librosa method\n",
    "from librosa.core import stft\n",
    "\n",
    "SAMPLE_RATE = 16000\n",
    "HOP_MS = 16\n",
    "WIN_MS = 64\n",
    "\n",
    "def ms_to_steps(ms):\n",
    "    return int((1e-3 * ms) * SAMPLE_RATE)\n",
    "\n",
    "\n",
    "coeffs = stft(\n",
    "    noisy_arr,\n",
    "    n_fft=ms_to_steps(WIN_MS),\n",
    "    hop_length=ms_to_steps(HOP_MS),\n",
    "    win_length=ms_to_steps(WIN_MS),\n",
    "    window='hann',\n",
    ")"
   ]
  },
  {
   "cell_type": "code",
   "execution_count": 35,
   "metadata": {},
   "outputs": [
    {
     "data": {
      "text/plain": [
       "(513, 129)"
      ]
     },
     "execution_count": 35,
     "metadata": {},
     "output_type": "execute_result"
    }
   ],
   "source": [
    "coeffs.shape"
   ]
  },
  {
   "cell_type": "code",
   "execution_count": 36,
   "metadata": {},
   "outputs": [
    {
     "data": {
      "text/plain": [
       "array([[-3.8170463e-01+0.0000000e+00j,  5.8743566e-01+0.0000000e+00j,\n",
       "         1.0969898e+00+0.0000000e+00j, ...,\n",
       "        -4.4178982e+00+0.0000000e+00j, -6.0868096e-01+0.0000000e+00j,\n",
       "         1.6001073e+00+0.0000000e+00j],\n",
       "       [ 5.4170847e-01-1.6696713e-17j, -3.2782310e-01+1.0085300e+00j,\n",
       "        -1.0631933e+00-4.7694153e-01j, ...,\n",
       "         2.8235607e+00+1.5835314e+00j,  8.1642896e-02+2.1850958e+00j,\n",
       "        -1.7461599e+00-1.1610535e-02j],\n",
       "       [ 6.6638374e-01+2.7105054e-17j, -4.1649649e-01-1.6669800e+00j,\n",
       "        -3.0108503e-01+9.2678517e-01j, ...,\n",
       "        -2.3111209e-01-4.8843044e-01j,  2.3051031e-01-9.1283572e-01j,\n",
       "         9.3570346e-01+5.6139571e-03j],\n",
       "       ...,\n",
       "       [ 2.4495318e-03+7.5894152e-18j, -1.2216974e-03-8.0257587e-07j,\n",
       "        -4.7389676e-06-1.2796473e-07j, ...,\n",
       "        -7.9117831e-07-1.8381310e-07j, -1.4918080e-03+1.5368349e-05j,\n",
       "         2.9675795e-03-3.6469399e-05j],\n",
       "       [-2.4633657e-03+9.7578196e-18j,  5.5223713e-06+1.2294801e-03j,\n",
       "        -4.4301228e-06-6.9266645e-07j, ...,\n",
       "        -7.2217034e-07-1.9559553e-07j, -8.1419075e-06-1.4901380e-03j,\n",
       "        -2.9612612e-03+1.8160392e-05j],\n",
       "       [ 2.4520983e-03+0.0000000e+00j,  1.2346158e-03+0.0000000e+00j,\n",
       "        -4.7971284e-06+0.0000000e+00j, ...,\n",
       "        -4.4534283e-07+0.0000000e+00j,  1.4896854e-03+0.0000000e+00j,\n",
       "         2.9629022e-03+0.0000000e+00j]], dtype=complex64)"
      ]
     },
     "execution_count": 36,
     "metadata": {},
     "output_type": "execute_result"
    }
   ],
   "source": [
    "coeffs"
   ]
  },
  {
   "cell_type": "code",
   "execution_count": 37,
   "metadata": {},
   "outputs": [
    {
     "data": {
      "text/plain": [
       "array([[-3.7692592e-04+0.0000000e+00j,  1.1839274e-03+0.0000000e+00j,\n",
       "         2.1425581e-03+0.0000000e+00j, ...,\n",
       "        -8.6287074e-03+0.0000000e+00j, -1.8241982e-03+0.0000000e+00j,\n",
       "         1.5735916e-03+0.0000000e+00j],\n",
       "       [ 5.3317967e-04-4.3651296e-04j, -6.2611594e-04+1.9620659e-03j,\n",
       "        -2.0765495e-03-9.3152642e-04j, ...,\n",
       "         5.5147670e-03+3.0928347e-03j,  8.5023028e-05+3.6472313e-03j,\n",
       "        -1.7062395e-03-4.1752681e-04j],\n",
       "       [ 6.4659788e-04+8.7925268e-04j, -7.7279686e-04-3.2253144e-03j,\n",
       "        -5.8805669e-04+1.8101273e-03j, ...,\n",
       "        -4.5139081e-04-9.5396570e-04j,  1.0421512e-03-1.9085754e-03j,\n",
       "         9.1503357e-04+8.0469763e-04j],\n",
       "       ...,\n",
       "       [-1.7753752e-06+5.4936078e-09j,  8.9524167e-07-3.0825638e-09j,\n",
       "        -9.2581418e-09-2.5818425e-10j, ...,\n",
       "        -1.5548554e-09-3.6265710e-10j,  2.7934250e-06+6.1145431e-09j,\n",
       "        -5.5909668e-06-1.7837269e-08j],\n",
       "       [ 1.7618679e-06-2.1840880e-09j,  9.8950768e-09-8.8133078e-07j,\n",
       "        -8.6570200e-09-1.3466122e-09j, ...,\n",
       "        -1.3938674e-09-3.7103065e-10j, -3.0696137e-09+2.7934066e-06j,\n",
       "         5.5967216e-06+9.2213455e-09j],\n",
       "       [-1.7728698e-06+0.0000000e+00j, -8.7178290e-07+0.0000000e+00j,\n",
       "        -9.3680237e-09+0.0000000e+00j, ...,\n",
       "        -8.8059693e-10+0.0000000e+00j, -2.7926483e-06+0.0000000e+00j,\n",
       "        -5.5951159e-06+0.0000000e+00j]], dtype=complex64)"
      ]
     },
     "execution_count": 37,
     "metadata": {},
     "output_type": "execute_result"
    }
   ],
   "source": [
    "spectral_frames"
   ]
  },
  {
   "cell_type": "code",
   "execution_count": null,
   "metadata": {},
   "outputs": [],
   "source": []
  },
  {
   "cell_type": "code",
   "execution_count": null,
   "metadata": {},
   "outputs": [],
   "source": []
  },
  {
   "cell_type": "code",
   "execution_count": null,
   "metadata": {},
   "outputs": [],
   "source": []
  }
 ],
 "metadata": {
  "kernelspec": {
   "display_name": "Python 3",
   "language": "python",
   "name": "python3"
  },
  "language_info": {
   "codemirror_mode": {
    "name": "ipython",
    "version": 3
   },
   "file_extension": ".py",
   "mimetype": "text/x-python",
   "name": "python",
   "nbconvert_exporter": "python",
   "pygments_lexer": "ipython3",
   "version": "3.6.5"
  }
 },
 "nbformat": 4,
 "nbformat_minor": 2
}
