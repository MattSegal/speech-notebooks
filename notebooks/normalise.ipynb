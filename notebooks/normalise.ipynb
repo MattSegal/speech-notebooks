{
 "cells": [
  {
   "cell_type": "code",
   "execution_count": 1,
   "metadata": {},
   "outputs": [],
   "source": [
    "import matplotlib.pyplot as plt\n",
    "import numpy as np\n",
    "from src.datasets import NoisySpectralSpeechDataset\n",
    "import torch"
   ]
  },
  {
   "cell_type": "code",
   "execution_count": 2,
   "metadata": {},
   "outputs": [
    {
     "data": {
      "text/plain": [
       "array([[0.82196977, 0.86777599, 0.38344986, 0.99342482, 0.87993321],\n",
       "       [0.72130017, 0.37679946, 0.49647927, 0.36552188, 0.96082127],\n",
       "       [0.92015495, 0.14000158, 0.87318802, 0.10154376, 0.1982605 ],\n",
       "       [0.94890754, 0.20539817, 0.54219955, 0.61858921, 0.59161815],\n",
       "       [0.00108831, 0.80659802, 0.08776489, 0.3303368 , 0.40059383]])"
      ]
     },
     "execution_count": 2,
     "metadata": {},
     "output_type": "execute_result"
    }
   ],
   "source": [
    "arr = np.random.random([5,5])\n",
    "arr"
   ]
  },
  {
   "cell_type": "code",
   "execution_count": 3,
   "metadata": {},
   "outputs": [
    {
     "data": {
      "text/plain": [
       "0.5453487590592642"
      ]
     },
     "execution_count": 3,
     "metadata": {},
     "output_type": "execute_result"
    }
   ],
   "source": [
    "mean = arr.mean()\n",
    "mean"
   ]
  },
  {
   "cell_type": "code",
   "execution_count": 4,
   "metadata": {},
   "outputs": [
    {
     "data": {
      "text/plain": [
       "8.43769498715119e-17"
      ]
     },
     "execution_count": 4,
     "metadata": {},
     "output_type": "execute_result"
    }
   ],
   "source": [
    "centred_arr = arr - mean\n",
    "centred_arr.mean()"
   ]
  },
  {
   "cell_type": "code",
   "execution_count": 5,
   "metadata": {},
   "outputs": [
    {
     "data": {
      "text/plain": [
       "0.5442604533384879"
      ]
     },
     "execution_count": 5,
     "metadata": {},
     "output_type": "execute_result"
    }
   ],
   "source": [
    "arr_max = np.abs(centred_arr).max()\n",
    "arr_max"
   ]
  },
  {
   "cell_type": "code",
   "execution_count": 6,
   "metadata": {},
   "outputs": [
    {
     "data": {
      "text/plain": [
       "array([[ 0.50825116,  0.59241349, -0.29746584,  0.82327507,  0.61475062],\n",
       "       [ 0.32328531, -0.30968499, -0.08979064, -0.33040593,  0.76337075],\n",
       "       [ 0.68865226, -0.74476692,  0.60235731, -0.8154276 , -0.63772456],\n",
       "       [ 0.741481  , -0.62461012, -0.00578622,  0.13456876,  0.08501332],\n",
       "       [-1.        ,  0.48000779, -0.8407443 , -0.39505343, -0.26596629]])"
      ]
     },
     "execution_count": 6,
     "metadata": {},
     "output_type": "execute_result"
    }
   ],
   "source": [
    "norm_arr = centred_arr / arr_max\n",
    "norm_arr"
   ]
  },
  {
   "cell_type": "code",
   "execution_count": 7,
   "metadata": {},
   "outputs": [
    {
     "data": {
      "text/plain": [
       "1.554312234475219e-16"
      ]
     },
     "execution_count": 7,
     "metadata": {},
     "output_type": "execute_result"
    }
   ],
   "source": [
    "norm_arr.mean()"
   ]
  },
  {
   "cell_type": "code",
   "execution_count": 8,
   "metadata": {},
   "outputs": [],
   "source": [
    "def norm(arr):\n",
    "    mean = arr.mean()\n",
    "    centred_arr = arr - mean\n",
    "    arr_max = np.abs(centred_arr).max()\n",
    "    return centred_arr / arr_max"
   ]
  },
  {
   "cell_type": "code",
   "execution_count": 9,
   "metadata": {},
   "outputs": [
    {
     "data": {
      "text/plain": [
       "array([[ 0.50825116,  0.59241349, -0.29746584,  0.82327507,  0.61475062],\n",
       "       [ 0.32328531, -0.30968499, -0.08979064, -0.33040593,  0.76337075],\n",
       "       [ 0.68865226, -0.74476692,  0.60235731, -0.8154276 , -0.63772456],\n",
       "       [ 0.741481  , -0.62461012, -0.00578622,  0.13456876,  0.08501332],\n",
       "       [-1.        ,  0.48000779, -0.8407443 , -0.39505343, -0.26596629]])"
      ]
     },
     "execution_count": 9,
     "metadata": {},
     "output_type": "execute_result"
    }
   ],
   "source": [
    "norm(arr)"
   ]
  },
  {
   "cell_type": "code",
   "execution_count": 10,
   "metadata": {},
   "outputs": [],
   "source": [
    "ds = NoisySpectralSpeechDataset(train=False, subsample=1)"
   ]
  },
  {
   "cell_type": "code",
   "execution_count": 11,
   "metadata": {},
   "outputs": [
    {
     "data": {
      "text/plain": [
       "(2, 256, 128)"
      ]
     },
     "execution_count": 11,
     "metadata": {},
     "output_type": "execute_result"
    }
   ],
   "source": [
    "t1, t2 = ds[0]\n",
    "spec1, spec2 = t1.detach().numpy(), t2.detach().numpy()\n",
    "spec1.shape"
   ]
  },
  {
   "cell_type": "code",
   "execution_count": 12,
   "metadata": {},
   "outputs": [
    {
     "data": {
      "text/plain": [
       "array([[[-2.19692869e-04,  6.25014945e-04,  2.45093880e-03, ...,\n",
       "         -1.19251683e-02, -9.81527939e-03, -5.30591700e-04],\n",
       "        [-4.21637640e-04,  1.25417742e-03,  8.77997663e-04, ...,\n",
       "          6.78011077e-03,  3.89209180e-03, -1.35651277e-03],\n",
       "        [ 1.47187657e-05, -1.77633180e-03, -3.03893141e-03, ...,\n",
       "         -6.68193679e-04,  1.70364883e-03,  2.37039221e-03],\n",
       "        ...,\n",
       "        [ 3.54986196e-06, -1.06398446e-07,  1.62722458e-07, ...,\n",
       "         -1.83854247e-08,  4.79685838e-08, -6.42870868e-09],\n",
       "        [-3.55063821e-06, -5.13824716e-08,  1.17953896e-07, ...,\n",
       "         -1.33476759e-08,  1.27001165e-08,  6.85184220e-09],\n",
       "        [ 3.54272061e-06, -4.57764884e-08,  9.32786932e-08, ...,\n",
       "         -1.60571165e-08,  1.37892702e-08,  3.41287620e-09]],\n",
       "\n",
       "       [[ 0.00000000e+00,  0.00000000e+00,  0.00000000e+00, ...,\n",
       "          0.00000000e+00,  0.00000000e+00,  0.00000000e+00],\n",
       "        [ 2.92619588e-05,  4.13769996e-03, -3.36125004e-03, ...,\n",
       "         -3.27023561e-03,  7.06311432e-04,  2.57185916e-03],\n",
       "        [-1.13086461e-03, -2.78623193e-03,  3.82559304e-03, ...,\n",
       "          2.41356180e-03,  1.14627078e-03, -9.93277761e-04],\n",
       "        ...,\n",
       "        [-7.22881879e-08, -1.13664321e-07, -1.12842521e-07, ...,\n",
       "         -4.82500839e-09, -3.07037098e-08,  2.81002888e-09],\n",
       "        [ 1.24061303e-08,  1.61774576e-08,  2.50542431e-08, ...,\n",
       "         -3.69694553e-10, -8.34796321e-09, -7.22619464e-10],\n",
       "        [-1.19814514e-08,  3.34190364e-09,  9.76836567e-09, ...,\n",
       "         -6.96412372e-10, -3.46802409e-09, -1.44580847e-09]]],\n",
       "      dtype=float32)"
      ]
     },
     "execution_count": 12,
     "metadata": {},
     "output_type": "execute_result"
    }
   ],
   "source": [
    "spec1"
   ]
  },
  {
   "cell_type": "code",
   "execution_count": 13,
   "metadata": {},
   "outputs": [
    {
     "data": {
      "text/plain": [
       "32735"
      ]
     },
     "execution_count": 13,
     "metadata": {},
     "output_type": "execute_result"
    }
   ],
   "source": [
    "(spec1 > 0).sum()"
   ]
  },
  {
   "cell_type": "code",
   "execution_count": 14,
   "metadata": {},
   "outputs": [
    {
     "data": {
      "text/plain": [
       "32673"
      ]
     },
     "execution_count": 14,
     "metadata": {},
     "output_type": "execute_result"
    }
   ],
   "source": [
    "(spec1 < 0).sum()"
   ]
  },
  {
   "cell_type": "code",
   "execution_count": 15,
   "metadata": {},
   "outputs": [
    {
     "data": {
      "text/plain": [
       "128"
      ]
     },
     "execution_count": 15,
     "metadata": {},
     "output_type": "execute_result"
    }
   ],
   "source": [
    "(spec1 == 0).sum()"
   ]
  },
  {
   "cell_type": "code",
   "execution_count": 16,
   "metadata": {},
   "outputs": [
    {
     "data": {
      "image/png": "[encoded data removed]",
      "text/plain": [
       "<Figure size 432x288 with 1 Axes>"
      ]
     },
     "metadata": {
      "needs_background": "light"
     },
     "output_type": "display_data"
    }
   ],
   "source": [
    "spec_flat = spec1.flatten() \n",
    "n, bins, patches = plt.hist(spec_flat, bins=100)\n",
    "plt.ylim(0, 5)\n",
    "plt.show()"
   ]
  },
  {
   "cell_type": "code",
   "execution_count": 17,
   "metadata": {},
   "outputs": [
    {
     "data": {
      "image/png": "[encoded data removed]",
      "text/plain": [
       "<Figure size 432x288 with 1 Axes>"
      ]
     },
     "metadata": {
      "needs_background": "light"
     },
     "output_type": "display_data"
    }
   ],
   "source": [
    "spec_flat = spec1.flatten()\n",
    "assert (spec_flat > 0).sum() == 32735\n",
    "spec_log = spec_flat.copy()\n",
    "spec_log[spec_flat > 0] = np.log(spec_flat[spec_flat > 0])\n",
    "spec_log[spec_flat < 0] = -1 * np.log(-1 * spec_flat[spec_flat < 0])\n",
    "\n",
    "n, bins, patches = plt.hist(spec_log,bins=100)\n",
    "plt.show()"
   ]
  },
  {
   "cell_type": "code",
   "execution_count": 18,
   "metadata": {},
   "outputs": [
    {
     "data": {
      "image/png": "[encoded data removed]",
      "text/plain": [
       "<Figure size 432x288 with 1 Axes>"
      ]
     },
     "metadata": {
      "needs_background": "light"
     },
     "output_type": "display_data"
    }
   ],
   "source": [
    "spec_flat = spec1.flatten()\n",
    "spec_log = spec_flat.copy()\n",
    "spec_log[spec_flat > 0] = np.log(spec_flat[spec_flat > 0])\n",
    "spec_log[spec_flat < 0] = -1 * np.log(-1 * spec_flat[spec_flat < 0])\n",
    "\n",
    "n, bins, patches = plt.hist(norm(spec_log),bins=100)\n",
    "plt.show()"
   ]
  },
  {
   "cell_type": "code",
   "execution_count": 19,
   "metadata": {},
   "outputs": [],
   "source": [
    "def logify(arr):\n",
    "    log_arr = np.zeros(arr.shape)\n",
    "    log_arr[arr > 0] = np.log(arr[arr > 0])\n",
    "    log_arr[arr < 0] = -1 * np.log(-1 * arr[arr < 0])\n",
    "    return log_arr"
   ]
  },
  {
   "cell_type": "code",
   "execution_count": 20,
   "metadata": {},
   "outputs": [
    {
     "data": {
      "image/png": "[encoded data removed]",
      "text/plain": [
       "<Figure size 432x288 with 1 Axes>"
      ]
     },
     "metadata": {
      "needs_background": "light"
     },
     "output_type": "display_data"
    }
   ],
   "source": [
    "spec_norm = norm(logify(spec1))\n",
    "spec_flat = spec_norm.flatten()\n",
    "n, bins, patches = plt.hist(spec_flat,bins=100)\n",
    "plt.show()"
   ]
  },
  {
   "cell_type": "code",
   "execution_count": 21,
   "metadata": {},
   "outputs": [
    {
     "data": {
      "image/png": "[encoded data removed]",
      "text/plain": [
       "<Figure size 432x288 with 1 Axes>"
      ]
     },
     "metadata": {
      "needs_background": "light"
     },
     "output_type": "display_data"
    }
   ],
   "source": [
    "spec_norm = norm(logify(spec1[0, :, :]))\n",
    "spec_flat = spec_norm.flatten()\n",
    "n, bins, patches = plt.hist(spec_flat,bins=100)\n",
    "plt.show()"
   ]
  },
  {
   "cell_type": "code",
   "execution_count": 22,
   "metadata": {},
   "outputs": [
    {
     "data": {
      "image/png": "[encoded data removed]",
      "text/plain": [
       "<Figure size 432x288 with 1 Axes>"
      ]
     },
     "metadata": {
      "needs_background": "light"
     },
     "output_type": "display_data"
    }
   ],
   "source": [
    "spec_norm = norm(logify(spec1[1, :, :]))\n",
    "spec_flat = spec_norm.flatten()\n",
    "n, bins, patches = plt.hist(spec_flat,bins=100)\n",
    "plt.show()"
   ]
  },
  {
   "cell_type": "code",
   "execution_count": 48,
   "metadata": {},
   "outputs": [],
   "source": [
    "def logify(arr):\n",
    "    return np.log(arr)"
   ]
  },
  {
   "cell_type": "code",
   "execution_count": 49,
   "metadata": {},
   "outputs": [],
   "source": [
    "def delogify(arr):\n",
    "    return np.exp(arr)"
   ]
  },
  {
   "cell_type": "code",
   "execution_count": 50,
   "metadata": {},
   "outputs": [],
   "source": [
    "spec_mag = np.sqrt(spec1[0, :, :]**2 + spec1[1, :, :]**2)"
   ]
  },
  {
   "cell_type": "code",
   "execution_count": 51,
   "metadata": {},
   "outputs": [],
   "source": [
    "spec_mag_flat = spec_mag.flatten()"
   ]
  },
  {
   "cell_type": "code",
   "execution_count": 56,
   "metadata": {},
   "outputs": [
    {
     "data": {
      "image/png": "[encoded data removed]",
      "text/plain": [
       "<Figure size 432x288 with 1 Axes>"
      ]
     },
     "metadata": {
      "needs_background": "light"
     },
     "output_type": "display_data"
    }
   ],
   "source": [
    "n, bins, patches = plt.hist(spec_mag_flat,bins=100)\n",
    "# plt.ylim(0, 5)\n",
    "plt.show()"
   ]
  },
  {
   "cell_type": "code",
   "execution_count": 55,
   "metadata": {},
   "outputs": [
    {
     "data": {
      "image/png": "[encoded data removed]",
      "text/plain": [
       "<Figure size 432x288 with 1 Axes>"
      ]
     },
     "metadata": {
      "needs_background": "light"
     },
     "output_type": "display_data"
    }
   ],
   "source": [
    "n, bins, patches = plt.hist(logify(spec_mag_flat),bins=100)\n",
    "# plt.ylim(0, 5)\n",
    "plt.show()"
   ]
  },
  {
   "cell_type": "code",
   "execution_count": 57,
   "metadata": {},
   "outputs": [
    {
     "data": {
      "image/png": "[encoded data removed]",
      "text/plain": [
       "<Figure size 432x288 with 1 Axes>"
      ]
     },
     "metadata": {
      "needs_background": "light"
     },
     "output_type": "display_data"
    }
   ],
   "source": [
    "n, bins, patches = plt.hist(delogify(logify(spec_mag_flat)),bins=100)\n",
    "# plt.ylim(0, 5)\n",
    "plt.show()"
   ]
  },
  {
   "cell_type": "code",
   "execution_count": null,
   "metadata": {},
   "outputs": [],
   "source": []
  },
  {
   "cell_type": "code",
   "execution_count": null,
   "metadata": {},
   "outputs": [],
   "source": []
  }
 ],
 "metadata": {
  "kernelspec": {
   "display_name": "Python 3",
   "language": "python",
   "name": "python3"
  },
  "language_info": {
   "codemirror_mode": {
    "name": "ipython",
    "version": 3
   },
   "file_extension": ".py",
   "mimetype": "text/x-python",
   "name": "python",
   "nbconvert_exporter": "python",
   "pygments_lexer": "ipython3",
   "version": "3.6.5"
  }
 },
 "nbformat": 4,
 "nbformat_minor": 2
}
